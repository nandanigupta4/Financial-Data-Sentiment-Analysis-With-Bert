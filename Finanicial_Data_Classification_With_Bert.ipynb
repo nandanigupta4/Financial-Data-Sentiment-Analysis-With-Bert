{
  "nbformat": 4,
  "nbformat_minor": 0,
  "metadata": {
    "colab": {
      "provenance": []
    },
    "kernelspec": {
      "name": "python3",
      "display_name": "Python 3"
    },
    "language_info": {
      "name": "python"
    },
    "widgets": {
      "application/vnd.jupyter.widget-state+json": {
        "bdb456e8442b40f691609fe78d46ad24": {
          "model_module": "@jupyter-widgets/controls",
          "model_name": "HBoxModel",
          "model_module_version": "1.5.0",
          "state": {
            "_dom_classes": [],
            "_model_module": "@jupyter-widgets/controls",
            "_model_module_version": "1.5.0",
            "_model_name": "HBoxModel",
            "_view_count": null,
            "_view_module": "@jupyter-widgets/controls",
            "_view_module_version": "1.5.0",
            "_view_name": "HBoxView",
            "box_style": "",
            "children": [
              "IPY_MODEL_1c2db19a2277451da48e39bc6295b239",
              "IPY_MODEL_f4524a6c8e3e4fbabcc51757e8ae2a5d",
              "IPY_MODEL_171b15f9c0bb4e04b45e079811f71af7"
            ],
            "layout": "IPY_MODEL_5c53f52a54774aee8cd13220cd5391b5"
          }
        },
        "1c2db19a2277451da48e39bc6295b239": {
          "model_module": "@jupyter-widgets/controls",
          "model_name": "HTMLModel",
          "model_module_version": "1.5.0",
          "state": {
            "_dom_classes": [],
            "_model_module": "@jupyter-widgets/controls",
            "_model_module_version": "1.5.0",
            "_model_name": "HTMLModel",
            "_view_count": null,
            "_view_module": "@jupyter-widgets/controls",
            "_view_module_version": "1.5.0",
            "_view_name": "HTMLView",
            "description": "",
            "description_tooltip": null,
            "layout": "IPY_MODEL_962d848e05504eadbe092b06fdd1616d",
            "placeholder": "​",
            "style": "IPY_MODEL_383bcc3f8d2e4a5fb6a64b3c14d0bbb1",
            "value": "tokenizer_config.json: 100%"
          }
        },
        "f4524a6c8e3e4fbabcc51757e8ae2a5d": {
          "model_module": "@jupyter-widgets/controls",
          "model_name": "FloatProgressModel",
          "model_module_version": "1.5.0",
          "state": {
            "_dom_classes": [],
            "_model_module": "@jupyter-widgets/controls",
            "_model_module_version": "1.5.0",
            "_model_name": "FloatProgressModel",
            "_view_count": null,
            "_view_module": "@jupyter-widgets/controls",
            "_view_module_version": "1.5.0",
            "_view_name": "ProgressView",
            "bar_style": "success",
            "description": "",
            "description_tooltip": null,
            "layout": "IPY_MODEL_de987ea9abeb49389e5abd7911450259",
            "max": 252,
            "min": 0,
            "orientation": "horizontal",
            "style": "IPY_MODEL_351933dc041a43998983733e2784d94c",
            "value": 252
          }
        },
        "171b15f9c0bb4e04b45e079811f71af7": {
          "model_module": "@jupyter-widgets/controls",
          "model_name": "HTMLModel",
          "model_module_version": "1.5.0",
          "state": {
            "_dom_classes": [],
            "_model_module": "@jupyter-widgets/controls",
            "_model_module_version": "1.5.0",
            "_model_name": "HTMLModel",
            "_view_count": null,
            "_view_module": "@jupyter-widgets/controls",
            "_view_module_version": "1.5.0",
            "_view_name": "HTMLView",
            "description": "",
            "description_tooltip": null,
            "layout": "IPY_MODEL_7bcf798451f04ba9bf0ba38272d7523b",
            "placeholder": "​",
            "style": "IPY_MODEL_92c807e22e704ee48fcc716df882f104",
            "value": " 252/252 [00:00&lt;00:00, 5.56kB/s]"
          }
        },
        "5c53f52a54774aee8cd13220cd5391b5": {
          "model_module": "@jupyter-widgets/base",
          "model_name": "LayoutModel",
          "model_module_version": "1.2.0",
          "state": {
            "_model_module": "@jupyter-widgets/base",
            "_model_module_version": "1.2.0",
            "_model_name": "LayoutModel",
            "_view_count": null,
            "_view_module": "@jupyter-widgets/base",
            "_view_module_version": "1.2.0",
            "_view_name": "LayoutView",
            "align_content": null,
            "align_items": null,
            "align_self": null,
            "border": null,
            "bottom": null,
            "display": null,
            "flex": null,
            "flex_flow": null,
            "grid_area": null,
            "grid_auto_columns": null,
            "grid_auto_flow": null,
            "grid_auto_rows": null,
            "grid_column": null,
            "grid_gap": null,
            "grid_row": null,
            "grid_template_areas": null,
            "grid_template_columns": null,
            "grid_template_rows": null,
            "height": null,
            "justify_content": null,
            "justify_items": null,
            "left": null,
            "margin": null,
            "max_height": null,
            "max_width": null,
            "min_height": null,
            "min_width": null,
            "object_fit": null,
            "object_position": null,
            "order": null,
            "overflow": null,
            "overflow_x": null,
            "overflow_y": null,
            "padding": null,
            "right": null,
            "top": null,
            "visibility": null,
            "width": null
          }
        },
        "962d848e05504eadbe092b06fdd1616d": {
          "model_module": "@jupyter-widgets/base",
          "model_name": "LayoutModel",
          "model_module_version": "1.2.0",
          "state": {
            "_model_module": "@jupyter-widgets/base",
            "_model_module_version": "1.2.0",
            "_model_name": "LayoutModel",
            "_view_count": null,
            "_view_module": "@jupyter-widgets/base",
            "_view_module_version": "1.2.0",
            "_view_name": "LayoutView",
            "align_content": null,
            "align_items": null,
            "align_self": null,
            "border": null,
            "bottom": null,
            "display": null,
            "flex": null,
            "flex_flow": null,
            "grid_area": null,
            "grid_auto_columns": null,
            "grid_auto_flow": null,
            "grid_auto_rows": null,
            "grid_column": null,
            "grid_gap": null,
            "grid_row": null,
            "grid_template_areas": null,
            "grid_template_columns": null,
            "grid_template_rows": null,
            "height": null,
            "justify_content": null,
            "justify_items": null,
            "left": null,
            "margin": null,
            "max_height": null,
            "max_width": null,
            "min_height": null,
            "min_width": null,
            "object_fit": null,
            "object_position": null,
            "order": null,
            "overflow": null,
            "overflow_x": null,
            "overflow_y": null,
            "padding": null,
            "right": null,
            "top": null,
            "visibility": null,
            "width": null
          }
        },
        "383bcc3f8d2e4a5fb6a64b3c14d0bbb1": {
          "model_module": "@jupyter-widgets/controls",
          "model_name": "DescriptionStyleModel",
          "model_module_version": "1.5.0",
          "state": {
            "_model_module": "@jupyter-widgets/controls",
            "_model_module_version": "1.5.0",
            "_model_name": "DescriptionStyleModel",
            "_view_count": null,
            "_view_module": "@jupyter-widgets/base",
            "_view_module_version": "1.2.0",
            "_view_name": "StyleView",
            "description_width": ""
          }
        },
        "de987ea9abeb49389e5abd7911450259": {
          "model_module": "@jupyter-widgets/base",
          "model_name": "LayoutModel",
          "model_module_version": "1.2.0",
          "state": {
            "_model_module": "@jupyter-widgets/base",
            "_model_module_version": "1.2.0",
            "_model_name": "LayoutModel",
            "_view_count": null,
            "_view_module": "@jupyter-widgets/base",
            "_view_module_version": "1.2.0",
            "_view_name": "LayoutView",
            "align_content": null,
            "align_items": null,
            "align_self": null,
            "border": null,
            "bottom": null,
            "display": null,
            "flex": null,
            "flex_flow": null,
            "grid_area": null,
            "grid_auto_columns": null,
            "grid_auto_flow": null,
            "grid_auto_rows": null,
            "grid_column": null,
            "grid_gap": null,
            "grid_row": null,
            "grid_template_areas": null,
            "grid_template_columns": null,
            "grid_template_rows": null,
            "height": null,
            "justify_content": null,
            "justify_items": null,
            "left": null,
            "margin": null,
            "max_height": null,
            "max_width": null,
            "min_height": null,
            "min_width": null,
            "object_fit": null,
            "object_position": null,
            "order": null,
            "overflow": null,
            "overflow_x": null,
            "overflow_y": null,
            "padding": null,
            "right": null,
            "top": null,
            "visibility": null,
            "width": null
          }
        },
        "351933dc041a43998983733e2784d94c": {
          "model_module": "@jupyter-widgets/controls",
          "model_name": "ProgressStyleModel",
          "model_module_version": "1.5.0",
          "state": {
            "_model_module": "@jupyter-widgets/controls",
            "_model_module_version": "1.5.0",
            "_model_name": "ProgressStyleModel",
            "_view_count": null,
            "_view_module": "@jupyter-widgets/base",
            "_view_module_version": "1.2.0",
            "_view_name": "StyleView",
            "bar_color": null,
            "description_width": ""
          }
        },
        "7bcf798451f04ba9bf0ba38272d7523b": {
          "model_module": "@jupyter-widgets/base",
          "model_name": "LayoutModel",
          "model_module_version": "1.2.0",
          "state": {
            "_model_module": "@jupyter-widgets/base",
            "_model_module_version": "1.2.0",
            "_model_name": "LayoutModel",
            "_view_count": null,
            "_view_module": "@jupyter-widgets/base",
            "_view_module_version": "1.2.0",
            "_view_name": "LayoutView",
            "align_content": null,
            "align_items": null,
            "align_self": null,
            "border": null,
            "bottom": null,
            "display": null,
            "flex": null,
            "flex_flow": null,
            "grid_area": null,
            "grid_auto_columns": null,
            "grid_auto_flow": null,
            "grid_auto_rows": null,
            "grid_column": null,
            "grid_gap": null,
            "grid_row": null,
            "grid_template_areas": null,
            "grid_template_columns": null,
            "grid_template_rows": null,
            "height": null,
            "justify_content": null,
            "justify_items": null,
            "left": null,
            "margin": null,
            "max_height": null,
            "max_width": null,
            "min_height": null,
            "min_width": null,
            "object_fit": null,
            "object_position": null,
            "order": null,
            "overflow": null,
            "overflow_x": null,
            "overflow_y": null,
            "padding": null,
            "right": null,
            "top": null,
            "visibility": null,
            "width": null
          }
        },
        "92c807e22e704ee48fcc716df882f104": {
          "model_module": "@jupyter-widgets/controls",
          "model_name": "DescriptionStyleModel",
          "model_module_version": "1.5.0",
          "state": {
            "_model_module": "@jupyter-widgets/controls",
            "_model_module_version": "1.5.0",
            "_model_name": "DescriptionStyleModel",
            "_view_count": null,
            "_view_module": "@jupyter-widgets/base",
            "_view_module_version": "1.2.0",
            "_view_name": "StyleView",
            "description_width": ""
          }
        },
        "4bfc25d7f963440fab11d707d4fc508f": {
          "model_module": "@jupyter-widgets/controls",
          "model_name": "HBoxModel",
          "model_module_version": "1.5.0",
          "state": {
            "_dom_classes": [],
            "_model_module": "@jupyter-widgets/controls",
            "_model_module_version": "1.5.0",
            "_model_name": "HBoxModel",
            "_view_count": null,
            "_view_module": "@jupyter-widgets/controls",
            "_view_module_version": "1.5.0",
            "_view_name": "HBoxView",
            "box_style": "",
            "children": [
              "IPY_MODEL_f839119627474fc0917d35474b829714",
              "IPY_MODEL_6c28cf5c59164be89523986e95054342",
              "IPY_MODEL_83528497ff704c9bbcdf5495864dde51"
            ],
            "layout": "IPY_MODEL_ede5cad2717c4e21a5bd1fb70cdae92b"
          }
        },
        "f839119627474fc0917d35474b829714": {
          "model_module": "@jupyter-widgets/controls",
          "model_name": "HTMLModel",
          "model_module_version": "1.5.0",
          "state": {
            "_dom_classes": [],
            "_model_module": "@jupyter-widgets/controls",
            "_model_module_version": "1.5.0",
            "_model_name": "HTMLModel",
            "_view_count": null,
            "_view_module": "@jupyter-widgets/controls",
            "_view_module_version": "1.5.0",
            "_view_name": "HTMLView",
            "description": "",
            "description_tooltip": null,
            "layout": "IPY_MODEL_17896fba62ab4be8b3214460c74cb64d",
            "placeholder": "​",
            "style": "IPY_MODEL_324203284a6640a6b15774ed3f593220",
            "value": "vocab.txt: 100%"
          }
        },
        "6c28cf5c59164be89523986e95054342": {
          "model_module": "@jupyter-widgets/controls",
          "model_name": "FloatProgressModel",
          "model_module_version": "1.5.0",
          "state": {
            "_dom_classes": [],
            "_model_module": "@jupyter-widgets/controls",
            "_model_module_version": "1.5.0",
            "_model_name": "FloatProgressModel",
            "_view_count": null,
            "_view_module": "@jupyter-widgets/controls",
            "_view_module_version": "1.5.0",
            "_view_name": "ProgressView",
            "bar_style": "success",
            "description": "",
            "description_tooltip": null,
            "layout": "IPY_MODEL_d43e86f7b1364062bf00ae0a2bb6748a",
            "max": 231508,
            "min": 0,
            "orientation": "horizontal",
            "style": "IPY_MODEL_4652f39e6eee45d3b1894cb4129dd3aa",
            "value": 231508
          }
        },
        "83528497ff704c9bbcdf5495864dde51": {
          "model_module": "@jupyter-widgets/controls",
          "model_name": "HTMLModel",
          "model_module_version": "1.5.0",
          "state": {
            "_dom_classes": [],
            "_model_module": "@jupyter-widgets/controls",
            "_model_module_version": "1.5.0",
            "_model_name": "HTMLModel",
            "_view_count": null,
            "_view_module": "@jupyter-widgets/controls",
            "_view_module_version": "1.5.0",
            "_view_name": "HTMLView",
            "description": "",
            "description_tooltip": null,
            "layout": "IPY_MODEL_1b91ce0c58474b6b96a72f1921be45ce",
            "placeholder": "​",
            "style": "IPY_MODEL_5a9c0e8bf6194b758073004161bbfc2e",
            "value": " 232k/232k [00:00&lt;00:00, 2.32MB/s]"
          }
        },
        "ede5cad2717c4e21a5bd1fb70cdae92b": {
          "model_module": "@jupyter-widgets/base",
          "model_name": "LayoutModel",
          "model_module_version": "1.2.0",
          "state": {
            "_model_module": "@jupyter-widgets/base",
            "_model_module_version": "1.2.0",
            "_model_name": "LayoutModel",
            "_view_count": null,
            "_view_module": "@jupyter-widgets/base",
            "_view_module_version": "1.2.0",
            "_view_name": "LayoutView",
            "align_content": null,
            "align_items": null,
            "align_self": null,
            "border": null,
            "bottom": null,
            "display": null,
            "flex": null,
            "flex_flow": null,
            "grid_area": null,
            "grid_auto_columns": null,
            "grid_auto_flow": null,
            "grid_auto_rows": null,
            "grid_column": null,
            "grid_gap": null,
            "grid_row": null,
            "grid_template_areas": null,
            "grid_template_columns": null,
            "grid_template_rows": null,
            "height": null,
            "justify_content": null,
            "justify_items": null,
            "left": null,
            "margin": null,
            "max_height": null,
            "max_width": null,
            "min_height": null,
            "min_width": null,
            "object_fit": null,
            "object_position": null,
            "order": null,
            "overflow": null,
            "overflow_x": null,
            "overflow_y": null,
            "padding": null,
            "right": null,
            "top": null,
            "visibility": null,
            "width": null
          }
        },
        "17896fba62ab4be8b3214460c74cb64d": {
          "model_module": "@jupyter-widgets/base",
          "model_name": "LayoutModel",
          "model_module_version": "1.2.0",
          "state": {
            "_model_module": "@jupyter-widgets/base",
            "_model_module_version": "1.2.0",
            "_model_name": "LayoutModel",
            "_view_count": null,
            "_view_module": "@jupyter-widgets/base",
            "_view_module_version": "1.2.0",
            "_view_name": "LayoutView",
            "align_content": null,
            "align_items": null,
            "align_self": null,
            "border": null,
            "bottom": null,
            "display": null,
            "flex": null,
            "flex_flow": null,
            "grid_area": null,
            "grid_auto_columns": null,
            "grid_auto_flow": null,
            "grid_auto_rows": null,
            "grid_column": null,
            "grid_gap": null,
            "grid_row": null,
            "grid_template_areas": null,
            "grid_template_columns": null,
            "grid_template_rows": null,
            "height": null,
            "justify_content": null,
            "justify_items": null,
            "left": null,
            "margin": null,
            "max_height": null,
            "max_width": null,
            "min_height": null,
            "min_width": null,
            "object_fit": null,
            "object_position": null,
            "order": null,
            "overflow": null,
            "overflow_x": null,
            "overflow_y": null,
            "padding": null,
            "right": null,
            "top": null,
            "visibility": null,
            "width": null
          }
        },
        "324203284a6640a6b15774ed3f593220": {
          "model_module": "@jupyter-widgets/controls",
          "model_name": "DescriptionStyleModel",
          "model_module_version": "1.5.0",
          "state": {
            "_model_module": "@jupyter-widgets/controls",
            "_model_module_version": "1.5.0",
            "_model_name": "DescriptionStyleModel",
            "_view_count": null,
            "_view_module": "@jupyter-widgets/base",
            "_view_module_version": "1.2.0",
            "_view_name": "StyleView",
            "description_width": ""
          }
        },
        "d43e86f7b1364062bf00ae0a2bb6748a": {
          "model_module": "@jupyter-widgets/base",
          "model_name": "LayoutModel",
          "model_module_version": "1.2.0",
          "state": {
            "_model_module": "@jupyter-widgets/base",
            "_model_module_version": "1.2.0",
            "_model_name": "LayoutModel",
            "_view_count": null,
            "_view_module": "@jupyter-widgets/base",
            "_view_module_version": "1.2.0",
            "_view_name": "LayoutView",
            "align_content": null,
            "align_items": null,
            "align_self": null,
            "border": null,
            "bottom": null,
            "display": null,
            "flex": null,
            "flex_flow": null,
            "grid_area": null,
            "grid_auto_columns": null,
            "grid_auto_flow": null,
            "grid_auto_rows": null,
            "grid_column": null,
            "grid_gap": null,
            "grid_row": null,
            "grid_template_areas": null,
            "grid_template_columns": null,
            "grid_template_rows": null,
            "height": null,
            "justify_content": null,
            "justify_items": null,
            "left": null,
            "margin": null,
            "max_height": null,
            "max_width": null,
            "min_height": null,
            "min_width": null,
            "object_fit": null,
            "object_position": null,
            "order": null,
            "overflow": null,
            "overflow_x": null,
            "overflow_y": null,
            "padding": null,
            "right": null,
            "top": null,
            "visibility": null,
            "width": null
          }
        },
        "4652f39e6eee45d3b1894cb4129dd3aa": {
          "model_module": "@jupyter-widgets/controls",
          "model_name": "ProgressStyleModel",
          "model_module_version": "1.5.0",
          "state": {
            "_model_module": "@jupyter-widgets/controls",
            "_model_module_version": "1.5.0",
            "_model_name": "ProgressStyleModel",
            "_view_count": null,
            "_view_module": "@jupyter-widgets/base",
            "_view_module_version": "1.2.0",
            "_view_name": "StyleView",
            "bar_color": null,
            "description_width": ""
          }
        },
        "1b91ce0c58474b6b96a72f1921be45ce": {
          "model_module": "@jupyter-widgets/base",
          "model_name": "LayoutModel",
          "model_module_version": "1.2.0",
          "state": {
            "_model_module": "@jupyter-widgets/base",
            "_model_module_version": "1.2.0",
            "_model_name": "LayoutModel",
            "_view_count": null,
            "_view_module": "@jupyter-widgets/base",
            "_view_module_version": "1.2.0",
            "_view_name": "LayoutView",
            "align_content": null,
            "align_items": null,
            "align_self": null,
            "border": null,
            "bottom": null,
            "display": null,
            "flex": null,
            "flex_flow": null,
            "grid_area": null,
            "grid_auto_columns": null,
            "grid_auto_flow": null,
            "grid_auto_rows": null,
            "grid_column": null,
            "grid_gap": null,
            "grid_row": null,
            "grid_template_areas": null,
            "grid_template_columns": null,
            "grid_template_rows": null,
            "height": null,
            "justify_content": null,
            "justify_items": null,
            "left": null,
            "margin": null,
            "max_height": null,
            "max_width": null,
            "min_height": null,
            "min_width": null,
            "object_fit": null,
            "object_position": null,
            "order": null,
            "overflow": null,
            "overflow_x": null,
            "overflow_y": null,
            "padding": null,
            "right": null,
            "top": null,
            "visibility": null,
            "width": null
          }
        },
        "5a9c0e8bf6194b758073004161bbfc2e": {
          "model_module": "@jupyter-widgets/controls",
          "model_name": "DescriptionStyleModel",
          "model_module_version": "1.5.0",
          "state": {
            "_model_module": "@jupyter-widgets/controls",
            "_model_module_version": "1.5.0",
            "_model_name": "DescriptionStyleModel",
            "_view_count": null,
            "_view_module": "@jupyter-widgets/base",
            "_view_module_version": "1.2.0",
            "_view_name": "StyleView",
            "description_width": ""
          }
        },
        "10f3d3f8e7b448e4b548f8a0d64d5ca7": {
          "model_module": "@jupyter-widgets/controls",
          "model_name": "HBoxModel",
          "model_module_version": "1.5.0",
          "state": {
            "_dom_classes": [],
            "_model_module": "@jupyter-widgets/controls",
            "_model_module_version": "1.5.0",
            "_model_name": "HBoxModel",
            "_view_count": null,
            "_view_module": "@jupyter-widgets/controls",
            "_view_module_version": "1.5.0",
            "_view_name": "HBoxView",
            "box_style": "",
            "children": [
              "IPY_MODEL_544442412fb34b95bece022d15c1485d",
              "IPY_MODEL_c787c44eba094dcf90d23bb69f6dce26",
              "IPY_MODEL_b9a6e04363d94e59bfd4cf3765952164"
            ],
            "layout": "IPY_MODEL_87f8248d838a4b648d35a93421052833"
          }
        },
        "544442412fb34b95bece022d15c1485d": {
          "model_module": "@jupyter-widgets/controls",
          "model_name": "HTMLModel",
          "model_module_version": "1.5.0",
          "state": {
            "_dom_classes": [],
            "_model_module": "@jupyter-widgets/controls",
            "_model_module_version": "1.5.0",
            "_model_name": "HTMLModel",
            "_view_count": null,
            "_view_module": "@jupyter-widgets/controls",
            "_view_module_version": "1.5.0",
            "_view_name": "HTMLView",
            "description": "",
            "description_tooltip": null,
            "layout": "IPY_MODEL_d3d73541b14e495f8b2370cd8890236e",
            "placeholder": "​",
            "style": "IPY_MODEL_94d6c32797144660927286ea0bee14bd",
            "value": "special_tokens_map.json: 100%"
          }
        },
        "c787c44eba094dcf90d23bb69f6dce26": {
          "model_module": "@jupyter-widgets/controls",
          "model_name": "FloatProgressModel",
          "model_module_version": "1.5.0",
          "state": {
            "_dom_classes": [],
            "_model_module": "@jupyter-widgets/controls",
            "_model_module_version": "1.5.0",
            "_model_name": "FloatProgressModel",
            "_view_count": null,
            "_view_module": "@jupyter-widgets/controls",
            "_view_module_version": "1.5.0",
            "_view_name": "ProgressView",
            "bar_style": "success",
            "description": "",
            "description_tooltip": null,
            "layout": "IPY_MODEL_7d2757d7f64b4454ab5ba22944c57ec5",
            "max": 112,
            "min": 0,
            "orientation": "horizontal",
            "style": "IPY_MODEL_3b3fc99558a04ab6922e9654cdccad62",
            "value": 112
          }
        },
        "b9a6e04363d94e59bfd4cf3765952164": {
          "model_module": "@jupyter-widgets/controls",
          "model_name": "HTMLModel",
          "model_module_version": "1.5.0",
          "state": {
            "_dom_classes": [],
            "_model_module": "@jupyter-widgets/controls",
            "_model_module_version": "1.5.0",
            "_model_name": "HTMLModel",
            "_view_count": null,
            "_view_module": "@jupyter-widgets/controls",
            "_view_module_version": "1.5.0",
            "_view_name": "HTMLView",
            "description": "",
            "description_tooltip": null,
            "layout": "IPY_MODEL_8152800a7b7342b7805f4c99e8c16961",
            "placeholder": "​",
            "style": "IPY_MODEL_232da431ebd944cea03b12e54802339d",
            "value": " 112/112 [00:00&lt;00:00, 1.92kB/s]"
          }
        },
        "87f8248d838a4b648d35a93421052833": {
          "model_module": "@jupyter-widgets/base",
          "model_name": "LayoutModel",
          "model_module_version": "1.2.0",
          "state": {
            "_model_module": "@jupyter-widgets/base",
            "_model_module_version": "1.2.0",
            "_model_name": "LayoutModel",
            "_view_count": null,
            "_view_module": "@jupyter-widgets/base",
            "_view_module_version": "1.2.0",
            "_view_name": "LayoutView",
            "align_content": null,
            "align_items": null,
            "align_self": null,
            "border": null,
            "bottom": null,
            "display": null,
            "flex": null,
            "flex_flow": null,
            "grid_area": null,
            "grid_auto_columns": null,
            "grid_auto_flow": null,
            "grid_auto_rows": null,
            "grid_column": null,
            "grid_gap": null,
            "grid_row": null,
            "grid_template_areas": null,
            "grid_template_columns": null,
            "grid_template_rows": null,
            "height": null,
            "justify_content": null,
            "justify_items": null,
            "left": null,
            "margin": null,
            "max_height": null,
            "max_width": null,
            "min_height": null,
            "min_width": null,
            "object_fit": null,
            "object_position": null,
            "order": null,
            "overflow": null,
            "overflow_x": null,
            "overflow_y": null,
            "padding": null,
            "right": null,
            "top": null,
            "visibility": null,
            "width": null
          }
        },
        "d3d73541b14e495f8b2370cd8890236e": {
          "model_module": "@jupyter-widgets/base",
          "model_name": "LayoutModel",
          "model_module_version": "1.2.0",
          "state": {
            "_model_module": "@jupyter-widgets/base",
            "_model_module_version": "1.2.0",
            "_model_name": "LayoutModel",
            "_view_count": null,
            "_view_module": "@jupyter-widgets/base",
            "_view_module_version": "1.2.0",
            "_view_name": "LayoutView",
            "align_content": null,
            "align_items": null,
            "align_self": null,
            "border": null,
            "bottom": null,
            "display": null,
            "flex": null,
            "flex_flow": null,
            "grid_area": null,
            "grid_auto_columns": null,
            "grid_auto_flow": null,
            "grid_auto_rows": null,
            "grid_column": null,
            "grid_gap": null,
            "grid_row": null,
            "grid_template_areas": null,
            "grid_template_columns": null,
            "grid_template_rows": null,
            "height": null,
            "justify_content": null,
            "justify_items": null,
            "left": null,
            "margin": null,
            "max_height": null,
            "max_width": null,
            "min_height": null,
            "min_width": null,
            "object_fit": null,
            "object_position": null,
            "order": null,
            "overflow": null,
            "overflow_x": null,
            "overflow_y": null,
            "padding": null,
            "right": null,
            "top": null,
            "visibility": null,
            "width": null
          }
        },
        "94d6c32797144660927286ea0bee14bd": {
          "model_module": "@jupyter-widgets/controls",
          "model_name": "DescriptionStyleModel",
          "model_module_version": "1.5.0",
          "state": {
            "_model_module": "@jupyter-widgets/controls",
            "_model_module_version": "1.5.0",
            "_model_name": "DescriptionStyleModel",
            "_view_count": null,
            "_view_module": "@jupyter-widgets/base",
            "_view_module_version": "1.2.0",
            "_view_name": "StyleView",
            "description_width": ""
          }
        },
        "7d2757d7f64b4454ab5ba22944c57ec5": {
          "model_module": "@jupyter-widgets/base",
          "model_name": "LayoutModel",
          "model_module_version": "1.2.0",
          "state": {
            "_model_module": "@jupyter-widgets/base",
            "_model_module_version": "1.2.0",
            "_model_name": "LayoutModel",
            "_view_count": null,
            "_view_module": "@jupyter-widgets/base",
            "_view_module_version": "1.2.0",
            "_view_name": "LayoutView",
            "align_content": null,
            "align_items": null,
            "align_self": null,
            "border": null,
            "bottom": null,
            "display": null,
            "flex": null,
            "flex_flow": null,
            "grid_area": null,
            "grid_auto_columns": null,
            "grid_auto_flow": null,
            "grid_auto_rows": null,
            "grid_column": null,
            "grid_gap": null,
            "grid_row": null,
            "grid_template_areas": null,
            "grid_template_columns": null,
            "grid_template_rows": null,
            "height": null,
            "justify_content": null,
            "justify_items": null,
            "left": null,
            "margin": null,
            "max_height": null,
            "max_width": null,
            "min_height": null,
            "min_width": null,
            "object_fit": null,
            "object_position": null,
            "order": null,
            "overflow": null,
            "overflow_x": null,
            "overflow_y": null,
            "padding": null,
            "right": null,
            "top": null,
            "visibility": null,
            "width": null
          }
        },
        "3b3fc99558a04ab6922e9654cdccad62": {
          "model_module": "@jupyter-widgets/controls",
          "model_name": "ProgressStyleModel",
          "model_module_version": "1.5.0",
          "state": {
            "_model_module": "@jupyter-widgets/controls",
            "_model_module_version": "1.5.0",
            "_model_name": "ProgressStyleModel",
            "_view_count": null,
            "_view_module": "@jupyter-widgets/base",
            "_view_module_version": "1.2.0",
            "_view_name": "StyleView",
            "bar_color": null,
            "description_width": ""
          }
        },
        "8152800a7b7342b7805f4c99e8c16961": {
          "model_module": "@jupyter-widgets/base",
          "model_name": "LayoutModel",
          "model_module_version": "1.2.0",
          "state": {
            "_model_module": "@jupyter-widgets/base",
            "_model_module_version": "1.2.0",
            "_model_name": "LayoutModel",
            "_view_count": null,
            "_view_module": "@jupyter-widgets/base",
            "_view_module_version": "1.2.0",
            "_view_name": "LayoutView",
            "align_content": null,
            "align_items": null,
            "align_self": null,
            "border": null,
            "bottom": null,
            "display": null,
            "flex": null,
            "flex_flow": null,
            "grid_area": null,
            "grid_auto_columns": null,
            "grid_auto_flow": null,
            "grid_auto_rows": null,
            "grid_column": null,
            "grid_gap": null,
            "grid_row": null,
            "grid_template_areas": null,
            "grid_template_columns": null,
            "grid_template_rows": null,
            "height": null,
            "justify_content": null,
            "justify_items": null,
            "left": null,
            "margin": null,
            "max_height": null,
            "max_width": null,
            "min_height": null,
            "min_width": null,
            "object_fit": null,
            "object_position": null,
            "order": null,
            "overflow": null,
            "overflow_x": null,
            "overflow_y": null,
            "padding": null,
            "right": null,
            "top": null,
            "visibility": null,
            "width": null
          }
        },
        "232da431ebd944cea03b12e54802339d": {
          "model_module": "@jupyter-widgets/controls",
          "model_name": "DescriptionStyleModel",
          "model_module_version": "1.5.0",
          "state": {
            "_model_module": "@jupyter-widgets/controls",
            "_model_module_version": "1.5.0",
            "_model_name": "DescriptionStyleModel",
            "_view_count": null,
            "_view_module": "@jupyter-widgets/base",
            "_view_module_version": "1.2.0",
            "_view_name": "StyleView",
            "description_width": ""
          }
        },
        "25cdd49da89749d2be4c793c00721628": {
          "model_module": "@jupyter-widgets/controls",
          "model_name": "HBoxModel",
          "model_module_version": "1.5.0",
          "state": {
            "_dom_classes": [],
            "_model_module": "@jupyter-widgets/controls",
            "_model_module_version": "1.5.0",
            "_model_name": "HBoxModel",
            "_view_count": null,
            "_view_module": "@jupyter-widgets/controls",
            "_view_module_version": "1.5.0",
            "_view_name": "HBoxView",
            "box_style": "",
            "children": [
              "IPY_MODEL_f6a75989e1be4ee8bda3c267143181c3",
              "IPY_MODEL_0f0047ded8a04f209abd46daf69d8a78",
              "IPY_MODEL_91df5979025a49af87b86ab431a6811f"
            ],
            "layout": "IPY_MODEL_c3f9d7c7346841cd86fcaf924b362c9a"
          }
        },
        "f6a75989e1be4ee8bda3c267143181c3": {
          "model_module": "@jupyter-widgets/controls",
          "model_name": "HTMLModel",
          "model_module_version": "1.5.0",
          "state": {
            "_dom_classes": [],
            "_model_module": "@jupyter-widgets/controls",
            "_model_module_version": "1.5.0",
            "_model_name": "HTMLModel",
            "_view_count": null,
            "_view_module": "@jupyter-widgets/controls",
            "_view_module_version": "1.5.0",
            "_view_name": "HTMLView",
            "description": "",
            "description_tooltip": null,
            "layout": "IPY_MODEL_dc1eaac5840e4d3eadfa1f590cd39630",
            "placeholder": "​",
            "style": "IPY_MODEL_97dce3c2bfa345068895b05fd5248f85",
            "value": "config.json: 100%"
          }
        },
        "0f0047ded8a04f209abd46daf69d8a78": {
          "model_module": "@jupyter-widgets/controls",
          "model_name": "FloatProgressModel",
          "model_module_version": "1.5.0",
          "state": {
            "_dom_classes": [],
            "_model_module": "@jupyter-widgets/controls",
            "_model_module_version": "1.5.0",
            "_model_name": "FloatProgressModel",
            "_view_count": null,
            "_view_module": "@jupyter-widgets/controls",
            "_view_module_version": "1.5.0",
            "_view_name": "ProgressView",
            "bar_style": "success",
            "description": "",
            "description_tooltip": null,
            "layout": "IPY_MODEL_d9c5c60a19af4793b50998912d199f0e",
            "max": 758,
            "min": 0,
            "orientation": "horizontal",
            "style": "IPY_MODEL_dd02835748f2498ebb738bb23614213f",
            "value": 758
          }
        },
        "91df5979025a49af87b86ab431a6811f": {
          "model_module": "@jupyter-widgets/controls",
          "model_name": "HTMLModel",
          "model_module_version": "1.5.0",
          "state": {
            "_dom_classes": [],
            "_model_module": "@jupyter-widgets/controls",
            "_model_module_version": "1.5.0",
            "_model_name": "HTMLModel",
            "_view_count": null,
            "_view_module": "@jupyter-widgets/controls",
            "_view_module_version": "1.5.0",
            "_view_name": "HTMLView",
            "description": "",
            "description_tooltip": null,
            "layout": "IPY_MODEL_4126125822e74ad1b0188c5f3a1d6f54",
            "placeholder": "​",
            "style": "IPY_MODEL_6fe19021b8b548c482afd92a2b8be6f2",
            "value": " 758/758 [00:00&lt;00:00, 15.6kB/s]"
          }
        },
        "c3f9d7c7346841cd86fcaf924b362c9a": {
          "model_module": "@jupyter-widgets/base",
          "model_name": "LayoutModel",
          "model_module_version": "1.2.0",
          "state": {
            "_model_module": "@jupyter-widgets/base",
            "_model_module_version": "1.2.0",
            "_model_name": "LayoutModel",
            "_view_count": null,
            "_view_module": "@jupyter-widgets/base",
            "_view_module_version": "1.2.0",
            "_view_name": "LayoutView",
            "align_content": null,
            "align_items": null,
            "align_self": null,
            "border": null,
            "bottom": null,
            "display": null,
            "flex": null,
            "flex_flow": null,
            "grid_area": null,
            "grid_auto_columns": null,
            "grid_auto_flow": null,
            "grid_auto_rows": null,
            "grid_column": null,
            "grid_gap": null,
            "grid_row": null,
            "grid_template_areas": null,
            "grid_template_columns": null,
            "grid_template_rows": null,
            "height": null,
            "justify_content": null,
            "justify_items": null,
            "left": null,
            "margin": null,
            "max_height": null,
            "max_width": null,
            "min_height": null,
            "min_width": null,
            "object_fit": null,
            "object_position": null,
            "order": null,
            "overflow": null,
            "overflow_x": null,
            "overflow_y": null,
            "padding": null,
            "right": null,
            "top": null,
            "visibility": null,
            "width": null
          }
        },
        "dc1eaac5840e4d3eadfa1f590cd39630": {
          "model_module": "@jupyter-widgets/base",
          "model_name": "LayoutModel",
          "model_module_version": "1.2.0",
          "state": {
            "_model_module": "@jupyter-widgets/base",
            "_model_module_version": "1.2.0",
            "_model_name": "LayoutModel",
            "_view_count": null,
            "_view_module": "@jupyter-widgets/base",
            "_view_module_version": "1.2.0",
            "_view_name": "LayoutView",
            "align_content": null,
            "align_items": null,
            "align_self": null,
            "border": null,
            "bottom": null,
            "display": null,
            "flex": null,
            "flex_flow": null,
            "grid_area": null,
            "grid_auto_columns": null,
            "grid_auto_flow": null,
            "grid_auto_rows": null,
            "grid_column": null,
            "grid_gap": null,
            "grid_row": null,
            "grid_template_areas": null,
            "grid_template_columns": null,
            "grid_template_rows": null,
            "height": null,
            "justify_content": null,
            "justify_items": null,
            "left": null,
            "margin": null,
            "max_height": null,
            "max_width": null,
            "min_height": null,
            "min_width": null,
            "object_fit": null,
            "object_position": null,
            "order": null,
            "overflow": null,
            "overflow_x": null,
            "overflow_y": null,
            "padding": null,
            "right": null,
            "top": null,
            "visibility": null,
            "width": null
          }
        },
        "97dce3c2bfa345068895b05fd5248f85": {
          "model_module": "@jupyter-widgets/controls",
          "model_name": "DescriptionStyleModel",
          "model_module_version": "1.5.0",
          "state": {
            "_model_module": "@jupyter-widgets/controls",
            "_model_module_version": "1.5.0",
            "_model_name": "DescriptionStyleModel",
            "_view_count": null,
            "_view_module": "@jupyter-widgets/base",
            "_view_module_version": "1.2.0",
            "_view_name": "StyleView",
            "description_width": ""
          }
        },
        "d9c5c60a19af4793b50998912d199f0e": {
          "model_module": "@jupyter-widgets/base",
          "model_name": "LayoutModel",
          "model_module_version": "1.2.0",
          "state": {
            "_model_module": "@jupyter-widgets/base",
            "_model_module_version": "1.2.0",
            "_model_name": "LayoutModel",
            "_view_count": null,
            "_view_module": "@jupyter-widgets/base",
            "_view_module_version": "1.2.0",
            "_view_name": "LayoutView",
            "align_content": null,
            "align_items": null,
            "align_self": null,
            "border": null,
            "bottom": null,
            "display": null,
            "flex": null,
            "flex_flow": null,
            "grid_area": null,
            "grid_auto_columns": null,
            "grid_auto_flow": null,
            "grid_auto_rows": null,
            "grid_column": null,
            "grid_gap": null,
            "grid_row": null,
            "grid_template_areas": null,
            "grid_template_columns": null,
            "grid_template_rows": null,
            "height": null,
            "justify_content": null,
            "justify_items": null,
            "left": null,
            "margin": null,
            "max_height": null,
            "max_width": null,
            "min_height": null,
            "min_width": null,
            "object_fit": null,
            "object_position": null,
            "order": null,
            "overflow": null,
            "overflow_x": null,
            "overflow_y": null,
            "padding": null,
            "right": null,
            "top": null,
            "visibility": null,
            "width": null
          }
        },
        "dd02835748f2498ebb738bb23614213f": {
          "model_module": "@jupyter-widgets/controls",
          "model_name": "ProgressStyleModel",
          "model_module_version": "1.5.0",
          "state": {
            "_model_module": "@jupyter-widgets/controls",
            "_model_module_version": "1.5.0",
            "_model_name": "ProgressStyleModel",
            "_view_count": null,
            "_view_module": "@jupyter-widgets/base",
            "_view_module_version": "1.2.0",
            "_view_name": "StyleView",
            "bar_color": null,
            "description_width": ""
          }
        },
        "4126125822e74ad1b0188c5f3a1d6f54": {
          "model_module": "@jupyter-widgets/base",
          "model_name": "LayoutModel",
          "model_module_version": "1.2.0",
          "state": {
            "_model_module": "@jupyter-widgets/base",
            "_model_module_version": "1.2.0",
            "_model_name": "LayoutModel",
            "_view_count": null,
            "_view_module": "@jupyter-widgets/base",
            "_view_module_version": "1.2.0",
            "_view_name": "LayoutView",
            "align_content": null,
            "align_items": null,
            "align_self": null,
            "border": null,
            "bottom": null,
            "display": null,
            "flex": null,
            "flex_flow": null,
            "grid_area": null,
            "grid_auto_columns": null,
            "grid_auto_flow": null,
            "grid_auto_rows": null,
            "grid_column": null,
            "grid_gap": null,
            "grid_row": null,
            "grid_template_areas": null,
            "grid_template_columns": null,
            "grid_template_rows": null,
            "height": null,
            "justify_content": null,
            "justify_items": null,
            "left": null,
            "margin": null,
            "max_height": null,
            "max_width": null,
            "min_height": null,
            "min_width": null,
            "object_fit": null,
            "object_position": null,
            "order": null,
            "overflow": null,
            "overflow_x": null,
            "overflow_y": null,
            "padding": null,
            "right": null,
            "top": null,
            "visibility": null,
            "width": null
          }
        },
        "6fe19021b8b548c482afd92a2b8be6f2": {
          "model_module": "@jupyter-widgets/controls",
          "model_name": "DescriptionStyleModel",
          "model_module_version": "1.5.0",
          "state": {
            "_model_module": "@jupyter-widgets/controls",
            "_model_module_version": "1.5.0",
            "_model_name": "DescriptionStyleModel",
            "_view_count": null,
            "_view_module": "@jupyter-widgets/base",
            "_view_module_version": "1.2.0",
            "_view_name": "StyleView",
            "description_width": ""
          }
        },
        "29cb10969c064f5ebd1c67e493231b48": {
          "model_module": "@jupyter-widgets/controls",
          "model_name": "HBoxModel",
          "model_module_version": "1.5.0",
          "state": {
            "_dom_classes": [],
            "_model_module": "@jupyter-widgets/controls",
            "_model_module_version": "1.5.0",
            "_model_name": "HBoxModel",
            "_view_count": null,
            "_view_module": "@jupyter-widgets/controls",
            "_view_module_version": "1.5.0",
            "_view_name": "HBoxView",
            "box_style": "",
            "children": [
              "IPY_MODEL_411b32056ee7492186551414926fd0ec",
              "IPY_MODEL_f11cd5f07791438fb8ddaef573f64270",
              "IPY_MODEL_6c121aac46b148cc8e7fc0cf4ba0cc0d"
            ],
            "layout": "IPY_MODEL_5893a4b690dd479096bd3149b893b0e9"
          }
        },
        "411b32056ee7492186551414926fd0ec": {
          "model_module": "@jupyter-widgets/controls",
          "model_name": "HTMLModel",
          "model_module_version": "1.5.0",
          "state": {
            "_dom_classes": [],
            "_model_module": "@jupyter-widgets/controls",
            "_model_module_version": "1.5.0",
            "_model_name": "HTMLModel",
            "_view_count": null,
            "_view_module": "@jupyter-widgets/controls",
            "_view_module_version": "1.5.0",
            "_view_name": "HTMLView",
            "description": "",
            "description_tooltip": null,
            "layout": "IPY_MODEL_aa00abeff4ac411480aa2ea7be5018d8",
            "placeholder": "​",
            "style": "IPY_MODEL_a2743a6f82a64bcea7b9b3fd6931c21c",
            "value": "pytorch_model.bin: 100%"
          }
        },
        "f11cd5f07791438fb8ddaef573f64270": {
          "model_module": "@jupyter-widgets/controls",
          "model_name": "FloatProgressModel",
          "model_module_version": "1.5.0",
          "state": {
            "_dom_classes": [],
            "_model_module": "@jupyter-widgets/controls",
            "_model_module_version": "1.5.0",
            "_model_name": "FloatProgressModel",
            "_view_count": null,
            "_view_module": "@jupyter-widgets/controls",
            "_view_module_version": "1.5.0",
            "_view_name": "ProgressView",
            "bar_style": "success",
            "description": "",
            "description_tooltip": null,
            "layout": "IPY_MODEL_3abe49cbe6284f9cb7607d73b269d1c5",
            "max": 437992753,
            "min": 0,
            "orientation": "horizontal",
            "style": "IPY_MODEL_56389a6150a846ae95b60ae5228e4257",
            "value": 437992753
          }
        },
        "6c121aac46b148cc8e7fc0cf4ba0cc0d": {
          "model_module": "@jupyter-widgets/controls",
          "model_name": "HTMLModel",
          "model_module_version": "1.5.0",
          "state": {
            "_dom_classes": [],
            "_model_module": "@jupyter-widgets/controls",
            "_model_module_version": "1.5.0",
            "_model_name": "HTMLModel",
            "_view_count": null,
            "_view_module": "@jupyter-widgets/controls",
            "_view_module_version": "1.5.0",
            "_view_name": "HTMLView",
            "description": "",
            "description_tooltip": null,
            "layout": "IPY_MODEL_d107ca0be6ba44e4b1926c2f3247ab8a",
            "placeholder": "​",
            "style": "IPY_MODEL_5e0a90077cfd4e599478c51b7da3fcfd",
            "value": " 438M/438M [00:04&lt;00:00, 118MB/s]"
          }
        },
        "5893a4b690dd479096bd3149b893b0e9": {
          "model_module": "@jupyter-widgets/base",
          "model_name": "LayoutModel",
          "model_module_version": "1.2.0",
          "state": {
            "_model_module": "@jupyter-widgets/base",
            "_model_module_version": "1.2.0",
            "_model_name": "LayoutModel",
            "_view_count": null,
            "_view_module": "@jupyter-widgets/base",
            "_view_module_version": "1.2.0",
            "_view_name": "LayoutView",
            "align_content": null,
            "align_items": null,
            "align_self": null,
            "border": null,
            "bottom": null,
            "display": null,
            "flex": null,
            "flex_flow": null,
            "grid_area": null,
            "grid_auto_columns": null,
            "grid_auto_flow": null,
            "grid_auto_rows": null,
            "grid_column": null,
            "grid_gap": null,
            "grid_row": null,
            "grid_template_areas": null,
            "grid_template_columns": null,
            "grid_template_rows": null,
            "height": null,
            "justify_content": null,
            "justify_items": null,
            "left": null,
            "margin": null,
            "max_height": null,
            "max_width": null,
            "min_height": null,
            "min_width": null,
            "object_fit": null,
            "object_position": null,
            "order": null,
            "overflow": null,
            "overflow_x": null,
            "overflow_y": null,
            "padding": null,
            "right": null,
            "top": null,
            "visibility": null,
            "width": null
          }
        },
        "aa00abeff4ac411480aa2ea7be5018d8": {
          "model_module": "@jupyter-widgets/base",
          "model_name": "LayoutModel",
          "model_module_version": "1.2.0",
          "state": {
            "_model_module": "@jupyter-widgets/base",
            "_model_module_version": "1.2.0",
            "_model_name": "LayoutModel",
            "_view_count": null,
            "_view_module": "@jupyter-widgets/base",
            "_view_module_version": "1.2.0",
            "_view_name": "LayoutView",
            "align_content": null,
            "align_items": null,
            "align_self": null,
            "border": null,
            "bottom": null,
            "display": null,
            "flex": null,
            "flex_flow": null,
            "grid_area": null,
            "grid_auto_columns": null,
            "grid_auto_flow": null,
            "grid_auto_rows": null,
            "grid_column": null,
            "grid_gap": null,
            "grid_row": null,
            "grid_template_areas": null,
            "grid_template_columns": null,
            "grid_template_rows": null,
            "height": null,
            "justify_content": null,
            "justify_items": null,
            "left": null,
            "margin": null,
            "max_height": null,
            "max_width": null,
            "min_height": null,
            "min_width": null,
            "object_fit": null,
            "object_position": null,
            "order": null,
            "overflow": null,
            "overflow_x": null,
            "overflow_y": null,
            "padding": null,
            "right": null,
            "top": null,
            "visibility": null,
            "width": null
          }
        },
        "a2743a6f82a64bcea7b9b3fd6931c21c": {
          "model_module": "@jupyter-widgets/controls",
          "model_name": "DescriptionStyleModel",
          "model_module_version": "1.5.0",
          "state": {
            "_model_module": "@jupyter-widgets/controls",
            "_model_module_version": "1.5.0",
            "_model_name": "DescriptionStyleModel",
            "_view_count": null,
            "_view_module": "@jupyter-widgets/base",
            "_view_module_version": "1.2.0",
            "_view_name": "StyleView",
            "description_width": ""
          }
        },
        "3abe49cbe6284f9cb7607d73b269d1c5": {
          "model_module": "@jupyter-widgets/base",
          "model_name": "LayoutModel",
          "model_module_version": "1.2.0",
          "state": {
            "_model_module": "@jupyter-widgets/base",
            "_model_module_version": "1.2.0",
            "_model_name": "LayoutModel",
            "_view_count": null,
            "_view_module": "@jupyter-widgets/base",
            "_view_module_version": "1.2.0",
            "_view_name": "LayoutView",
            "align_content": null,
            "align_items": null,
            "align_self": null,
            "border": null,
            "bottom": null,
            "display": null,
            "flex": null,
            "flex_flow": null,
            "grid_area": null,
            "grid_auto_columns": null,
            "grid_auto_flow": null,
            "grid_auto_rows": null,
            "grid_column": null,
            "grid_gap": null,
            "grid_row": null,
            "grid_template_areas": null,
            "grid_template_columns": null,
            "grid_template_rows": null,
            "height": null,
            "justify_content": null,
            "justify_items": null,
            "left": null,
            "margin": null,
            "max_height": null,
            "max_width": null,
            "min_height": null,
            "min_width": null,
            "object_fit": null,
            "object_position": null,
            "order": null,
            "overflow": null,
            "overflow_x": null,
            "overflow_y": null,
            "padding": null,
            "right": null,
            "top": null,
            "visibility": null,
            "width": null
          }
        },
        "56389a6150a846ae95b60ae5228e4257": {
          "model_module": "@jupyter-widgets/controls",
          "model_name": "ProgressStyleModel",
          "model_module_version": "1.5.0",
          "state": {
            "_model_module": "@jupyter-widgets/controls",
            "_model_module_version": "1.5.0",
            "_model_name": "ProgressStyleModel",
            "_view_count": null,
            "_view_module": "@jupyter-widgets/base",
            "_view_module_version": "1.2.0",
            "_view_name": "StyleView",
            "bar_color": null,
            "description_width": ""
          }
        },
        "d107ca0be6ba44e4b1926c2f3247ab8a": {
          "model_module": "@jupyter-widgets/base",
          "model_name": "LayoutModel",
          "model_module_version": "1.2.0",
          "state": {
            "_model_module": "@jupyter-widgets/base",
            "_model_module_version": "1.2.0",
            "_model_name": "LayoutModel",
            "_view_count": null,
            "_view_module": "@jupyter-widgets/base",
            "_view_module_version": "1.2.0",
            "_view_name": "LayoutView",
            "align_content": null,
            "align_items": null,
            "align_self": null,
            "border": null,
            "bottom": null,
            "display": null,
            "flex": null,
            "flex_flow": null,
            "grid_area": null,
            "grid_auto_columns": null,
            "grid_auto_flow": null,
            "grid_auto_rows": null,
            "grid_column": null,
            "grid_gap": null,
            "grid_row": null,
            "grid_template_areas": null,
            "grid_template_columns": null,
            "grid_template_rows": null,
            "height": null,
            "justify_content": null,
            "justify_items": null,
            "left": null,
            "margin": null,
            "max_height": null,
            "max_width": null,
            "min_height": null,
            "min_width": null,
            "object_fit": null,
            "object_position": null,
            "order": null,
            "overflow": null,
            "overflow_x": null,
            "overflow_y": null,
            "padding": null,
            "right": null,
            "top": null,
            "visibility": null,
            "width": null
          }
        },
        "5e0a90077cfd4e599478c51b7da3fcfd": {
          "model_module": "@jupyter-widgets/controls",
          "model_name": "DescriptionStyleModel",
          "model_module_version": "1.5.0",
          "state": {
            "_model_module": "@jupyter-widgets/controls",
            "_model_module_version": "1.5.0",
            "_model_name": "DescriptionStyleModel",
            "_view_count": null,
            "_view_module": "@jupyter-widgets/base",
            "_view_module_version": "1.2.0",
            "_view_name": "StyleView",
            "description_width": ""
          }
        }
      }
    }
  },
  "cells": [
    {
      "cell_type": "code",
      "execution_count": 1,
      "metadata": {
        "id": "7u8Qh8uu8fm1"
      },
      "outputs": [],
      "source": [
        "from transformers import BertForSequenceClassification, BertTokenizer\n",
        "import torch"
      ]
    },
    {
      "cell_type": "code",
      "source": [
        "model_name = 'ProsusAI/finbert'"
      ],
      "metadata": {
        "id": "3ZfVdfKI8n2V"
      },
      "execution_count": 2,
      "outputs": []
    },
    {
      "cell_type": "code",
      "source": [
        "# inilialize our model and tokenizer\n",
        "tokenizer = BertTokenizer.from_pretrained(model_name)\n",
        "model = BertForSequenceClassification.from_pretrained(model_name)"
      ],
      "metadata": {
        "colab": {
          "base_uri": "https://localhost:8080/",
          "height": 301,
          "referenced_widgets": [
            "bdb456e8442b40f691609fe78d46ad24",
            "1c2db19a2277451da48e39bc6295b239",
            "f4524a6c8e3e4fbabcc51757e8ae2a5d",
            "171b15f9c0bb4e04b45e079811f71af7",
            "5c53f52a54774aee8cd13220cd5391b5",
            "962d848e05504eadbe092b06fdd1616d",
            "383bcc3f8d2e4a5fb6a64b3c14d0bbb1",
            "de987ea9abeb49389e5abd7911450259",
            "351933dc041a43998983733e2784d94c",
            "7bcf798451f04ba9bf0ba38272d7523b",
            "92c807e22e704ee48fcc716df882f104",
            "4bfc25d7f963440fab11d707d4fc508f",
            "f839119627474fc0917d35474b829714",
            "6c28cf5c59164be89523986e95054342",
            "83528497ff704c9bbcdf5495864dde51",
            "ede5cad2717c4e21a5bd1fb70cdae92b",
            "17896fba62ab4be8b3214460c74cb64d",
            "324203284a6640a6b15774ed3f593220",
            "d43e86f7b1364062bf00ae0a2bb6748a",
            "4652f39e6eee45d3b1894cb4129dd3aa",
            "1b91ce0c58474b6b96a72f1921be45ce",
            "5a9c0e8bf6194b758073004161bbfc2e",
            "10f3d3f8e7b448e4b548f8a0d64d5ca7",
            "544442412fb34b95bece022d15c1485d",
            "c787c44eba094dcf90d23bb69f6dce26",
            "b9a6e04363d94e59bfd4cf3765952164",
            "87f8248d838a4b648d35a93421052833",
            "d3d73541b14e495f8b2370cd8890236e",
            "94d6c32797144660927286ea0bee14bd",
            "7d2757d7f64b4454ab5ba22944c57ec5",
            "3b3fc99558a04ab6922e9654cdccad62",
            "8152800a7b7342b7805f4c99e8c16961",
            "232da431ebd944cea03b12e54802339d",
            "25cdd49da89749d2be4c793c00721628",
            "f6a75989e1be4ee8bda3c267143181c3",
            "0f0047ded8a04f209abd46daf69d8a78",
            "91df5979025a49af87b86ab431a6811f",
            "c3f9d7c7346841cd86fcaf924b362c9a",
            "dc1eaac5840e4d3eadfa1f590cd39630",
            "97dce3c2bfa345068895b05fd5248f85",
            "d9c5c60a19af4793b50998912d199f0e",
            "dd02835748f2498ebb738bb23614213f",
            "4126125822e74ad1b0188c5f3a1d6f54",
            "6fe19021b8b548c482afd92a2b8be6f2",
            "29cb10969c064f5ebd1c67e493231b48",
            "411b32056ee7492186551414926fd0ec",
            "f11cd5f07791438fb8ddaef573f64270",
            "6c121aac46b148cc8e7fc0cf4ba0cc0d",
            "5893a4b690dd479096bd3149b893b0e9",
            "aa00abeff4ac411480aa2ea7be5018d8",
            "a2743a6f82a64bcea7b9b3fd6931c21c",
            "3abe49cbe6284f9cb7607d73b269d1c5",
            "56389a6150a846ae95b60ae5228e4257",
            "d107ca0be6ba44e4b1926c2f3247ab8a",
            "5e0a90077cfd4e599478c51b7da3fcfd"
          ]
        },
        "id": "vwziS3h48n52",
        "outputId": "cbd6cc06-8e48-4210-ed3f-764d8f563742"
      },
      "execution_count": 3,
      "outputs": [
        {
          "output_type": "stream",
          "name": "stderr",
          "text": [
            "/usr/local/lib/python3.10/dist-packages/huggingface_hub/utils/_token.py:88: UserWarning: \n",
            "The secret `HF_TOKEN` does not exist in your Colab secrets.\n",
            "To authenticate with the Hugging Face Hub, create a token in your settings tab (https://huggingface.co/settings/tokens), set it as secret in your Google Colab and restart your session.\n",
            "You will be able to reuse this secret in all of your notebooks.\n",
            "Please note that authentication is recommended but still optional to access public models or datasets.\n",
            "  warnings.warn(\n"
          ]
        },
        {
          "output_type": "display_data",
          "data": {
            "text/plain": [
              "tokenizer_config.json:   0%|          | 0.00/252 [00:00<?, ?B/s]"
            ],
            "application/vnd.jupyter.widget-view+json": {
              "version_major": 2,
              "version_minor": 0,
              "model_id": "bdb456e8442b40f691609fe78d46ad24"
            }
          },
          "metadata": {}
        },
        {
          "output_type": "display_data",
          "data": {
            "text/plain": [
              "vocab.txt:   0%|          | 0.00/232k [00:00<?, ?B/s]"
            ],
            "application/vnd.jupyter.widget-view+json": {
              "version_major": 2,
              "version_minor": 0,
              "model_id": "4bfc25d7f963440fab11d707d4fc508f"
            }
          },
          "metadata": {}
        },
        {
          "output_type": "display_data",
          "data": {
            "text/plain": [
              "special_tokens_map.json:   0%|          | 0.00/112 [00:00<?, ?B/s]"
            ],
            "application/vnd.jupyter.widget-view+json": {
              "version_major": 2,
              "version_minor": 0,
              "model_id": "10f3d3f8e7b448e4b548f8a0d64d5ca7"
            }
          },
          "metadata": {}
        },
        {
          "output_type": "display_data",
          "data": {
            "text/plain": [
              "config.json:   0%|          | 0.00/758 [00:00<?, ?B/s]"
            ],
            "application/vnd.jupyter.widget-view+json": {
              "version_major": 2,
              "version_minor": 0,
              "model_id": "25cdd49da89749d2be4c793c00721628"
            }
          },
          "metadata": {}
        },
        {
          "output_type": "display_data",
          "data": {
            "text/plain": [
              "pytorch_model.bin:   0%|          | 0.00/438M [00:00<?, ?B/s]"
            ],
            "application/vnd.jupyter.widget-view+json": {
              "version_major": 2,
              "version_minor": 0,
              "model_id": "29cb10969c064f5ebd1c67e493231b48"
            }
          },
          "metadata": {}
        }
      ]
    },
    {
      "cell_type": "code",
      "source": [
        "txt2= \"\"\"The world is a small place, and so, deeds of one person may have repercussions on another person. Speaking on a similar note, the tug of war between the two Indian states of Haryana and Punjab and the Capital of Delhi has conspicuously grabbed everyone’s attention.\n",
        "\n",
        "While the country’s capital is adamant on putting all the blame on the agricultural states for the increased air degradation in Delhi, the neighbouring states seem to be prepared to shrug the blame off their own shoulders. What could be more brazen than the Nirbhaya rape case victim pleading for mercy, claim that the life span of people in Delhi has already reduced due to pollution! When your country’s capital is allegedly the most polluted city in the world, it is hard to save yourself from embarrassment in the eyes of the world.\n",
        "\n",
        "Repetitive warnings and questions being hurled upon the government by the Supreme Court and the citizens of India seem to all be in vain. Amidst all the political drama, a variety of opinions and supposed solutions can be seen getting the limelight. While some people demand a complete ban on stubble burning, others seem to have a soft corner for the poor farmers.\n",
        "\n",
        "Several suggestions propose using the “Happy Seeder” machine instead of stubble burning. The government has a scheme of providing subsidy to farmers up to 50% when it comes to purchasing Happy Seeder. Notwithstanding the fact that the cost price of one unit of Happy Seeder is not less than Rs 4-5 lakhs, and even half of the sum is quite a huge amount when the average income of a farmer is estimated at Rs 77,976 per year, according to the Dalwai Committee Report.\n",
        "This income can barely afford any extravagant expenses; it is already quite burdensome for most of the farmers to get their ends meet. Even if such a huge amount is somehow borne by the farmer, the machine would remain idle for the better part of the year.\n",
        "\n",
        "A possible solution to this problem could be that the government itself undertakes a contract with a Happy Seeder manufacturing company and under the postulates of the contract, the company could be urged to rent their machines to the seeking farmers for the stipulated time period. Not to mention that the cost to be borne by the peasants would decrease drastically.\n",
        "\n",
        "I came across an article by Mr Ajay Shankar, a distinguished member of TERI. He had put forward some of the brilliant two-way income opportunities from the crop residue. After treatment, the stubble can be used for cattle rearing. Another way to use it would be to convert it into biofuel for vehicles. In fact, Mahindra Group Company and IGL have joined hands for this concept.\n",
        "\n",
        "Yet another way of making a profit from stubble is to convert it into briquettes. Briquettes, a substitute for coal, has a potent market in current times. It has primary usage in thermal power plants. Many companies have been lured by the fact that briquettes use no extra power as a replacement of coal and its sufficient availability is undeniable.\n",
        "\n",
        "A scheme could be launched where the companies purchase stubble at a price ample for them to make a decent profit out of it even after covering the cost of harvesting the residue and then, convert it into briquettes. This solution can possibly eliminate stubble burning in a very short period of time.\n",
        "\n",
        "\n",
        "\"\"\""
      ],
      "metadata": {
        "id": "Chr6pdXz83e9"
      },
      "execution_count": 42,
      "outputs": []
    },
    {
      "cell_type": "code",
      "source": [
        "txt= \"\"\"India’s Finance Minister Nirmala Sitharaman announced optimistic projections for India’s economic future at the Vibrant Gujarat Global Summit. She predicts India will overtake Germany and Japan to become the third-largest economy by 2027–28, boasting a GDP exceeding $5 trillion. By 2047, she estimates a conservative reach of $30 trillion, solidifying India’s economic standing.\n",
        "\n",
        "This ambitious forecast builds on India’s current position as the world’s fifth-largest economy, with a GDP of roughly $3.4 trillion. Additionally, the economy is projected to grow by a robust 7.3% in the current fiscal year, surpassing the 7.2% growth of 2022–23.\n",
        "\n",
        "Sitharaman further highlighted the success of foreign direct investment (FDI) in India, attracting $919 billion in the past 23 years, with 65% secured in the past 8–9 years under the current government. This surge in FDI demonstrates investor confidence in India’s economic potential.\n",
        "\n",
        "\"\"\""
      ],
      "metadata": {
        "id": "ZwpZf10uOVNx"
      },
      "execution_count": 74,
      "outputs": []
    },
    {
      "cell_type": "code",
      "source": [
        "#tokens = tokenizer.encode_plus(txt2,add_special_tokens=False,return_tensors='pt')"
      ],
      "metadata": {
        "id": "-SK1v3YO83iD"
      },
      "execution_count": 43,
      "outputs": []
    },
    {
      "cell_type": "code",
      "source": [
        "tokens = tokenizer.encode_plus(txt,add_special_tokens=False,return_tensors='pt')"
      ],
      "metadata": {
        "id": "rKWoOMZiOb1a"
      },
      "execution_count": 77,
      "outputs": []
    },
    {
      "cell_type": "code",
      "source": [
        "len(tokens['input_ids'][0]),tokens"
      ],
      "metadata": {
        "colab": {
          "base_uri": "https://localhost:8080/"
        },
        "id": "10krNLEv9X4L",
        "outputId": "db259be5-cfc6-4a7e-d99e-8a7eed45d180"
      },
      "execution_count": 78,
      "outputs": [
        {
          "output_type": "execute_result",
          "data": {
            "text/plain": [
              "(207,\n",
              " {'input_ids': tensor([[ 2634,  1521,  1055,  5446,  2704,  9152, 17830,  2721,  4133, 11077,\n",
              "           2386,  2623, 21931, 21796,  2005,  2634,  1521,  1055,  3171,  2925,\n",
              "           2012,  1996, 17026, 14288,  3795,  6465,  1012,  2016, 16014,  2015,\n",
              "           2634,  2097,  2058, 15166,  2762,  1998,  2900,  2000,  2468,  1996,\n",
              "           2353,  1011,  2922,  4610,  2011, 16798,  2581,  1516,  2654,  1010,\n",
              "           8945, 14083,  2075,  1037, 14230, 17003,  1002,  1019, 23458,  1012,\n",
              "           2011, 19627,  2581,  1010,  2016, 10035,  1037,  4603,  3362,  1997,\n",
              "           1002,  2382, 23458,  1010,  5024, 11787,  2634,  1521,  1055,  3171,\n",
              "           3061,  1012,  2023, 12479, 19939, 16473,  2006,  2634,  1521,  1055,\n",
              "           2783,  2597,  2004,  1996,  2088,  1521,  1055,  3587,  1011,  2922,\n",
              "           4610,  1010,  2007,  1037, 14230,  1997,  5560,  1002,  1017,  1012,\n",
              "           1018, 23458,  1012,  5678,  1010,  1996,  4610,  2003, 11310,  2000,\n",
              "           4982,  2011,  1037, 15873,  1021,  1012,  1017,  1003,  1999,  1996,\n",
              "           2783, 10807,  2095,  1010, 27097,  1996,  1021,  1012,  1016,  1003,\n",
              "           3930,  1997, 16798,  2475,  1516,  2603,  1012,  4133, 11077,  2386,\n",
              "           2582, 11548,  1996,  3112,  1997,  3097,  3622,  5211,  1006,  1042,\n",
              "           4305,  1007,  1999,  2634,  1010, 15411,  1002,  6205,  2683,  4551,\n",
              "           1999,  1996,  2627,  2603,  2086,  1010,  2007,  3515,  1003,  7119,\n",
              "           1999,  1996,  2627,  1022,  1516,  1023,  2086,  2104,  1996,  2783,\n",
              "           2231,  1012,  2023, 12058,  1999,  1042,  4305, 16691, 14316,  7023,\n",
              "           1999,  2634,  1521,  1055,  3171,  4022,  1012]]), 'token_type_ids': tensor([[0, 0, 0, 0, 0, 0, 0, 0, 0, 0, 0, 0, 0, 0, 0, 0, 0, 0, 0, 0, 0, 0, 0, 0,\n",
              "          0, 0, 0, 0, 0, 0, 0, 0, 0, 0, 0, 0, 0, 0, 0, 0, 0, 0, 0, 0, 0, 0, 0, 0,\n",
              "          0, 0, 0, 0, 0, 0, 0, 0, 0, 0, 0, 0, 0, 0, 0, 0, 0, 0, 0, 0, 0, 0, 0, 0,\n",
              "          0, 0, 0, 0, 0, 0, 0, 0, 0, 0, 0, 0, 0, 0, 0, 0, 0, 0, 0, 0, 0, 0, 0, 0,\n",
              "          0, 0, 0, 0, 0, 0, 0, 0, 0, 0, 0, 0, 0, 0, 0, 0, 0, 0, 0, 0, 0, 0, 0, 0,\n",
              "          0, 0, 0, 0, 0, 0, 0, 0, 0, 0, 0, 0, 0, 0, 0, 0, 0, 0, 0, 0, 0, 0, 0, 0,\n",
              "          0, 0, 0, 0, 0, 0, 0, 0, 0, 0, 0, 0, 0, 0, 0, 0, 0, 0, 0, 0, 0, 0, 0, 0,\n",
              "          0, 0, 0, 0, 0, 0, 0, 0, 0, 0, 0, 0, 0, 0, 0, 0, 0, 0, 0, 0, 0, 0, 0, 0,\n",
              "          0, 0, 0, 0, 0, 0, 0, 0, 0, 0, 0, 0, 0, 0, 0]]), 'attention_mask': tensor([[1, 1, 1, 1, 1, 1, 1, 1, 1, 1, 1, 1, 1, 1, 1, 1, 1, 1, 1, 1, 1, 1, 1, 1,\n",
              "          1, 1, 1, 1, 1, 1, 1, 1, 1, 1, 1, 1, 1, 1, 1, 1, 1, 1, 1, 1, 1, 1, 1, 1,\n",
              "          1, 1, 1, 1, 1, 1, 1, 1, 1, 1, 1, 1, 1, 1, 1, 1, 1, 1, 1, 1, 1, 1, 1, 1,\n",
              "          1, 1, 1, 1, 1, 1, 1, 1, 1, 1, 1, 1, 1, 1, 1, 1, 1, 1, 1, 1, 1, 1, 1, 1,\n",
              "          1, 1, 1, 1, 1, 1, 1, 1, 1, 1, 1, 1, 1, 1, 1, 1, 1, 1, 1, 1, 1, 1, 1, 1,\n",
              "          1, 1, 1, 1, 1, 1, 1, 1, 1, 1, 1, 1, 1, 1, 1, 1, 1, 1, 1, 1, 1, 1, 1, 1,\n",
              "          1, 1, 1, 1, 1, 1, 1, 1, 1, 1, 1, 1, 1, 1, 1, 1, 1, 1, 1, 1, 1, 1, 1, 1,\n",
              "          1, 1, 1, 1, 1, 1, 1, 1, 1, 1, 1, 1, 1, 1, 1, 1, 1, 1, 1, 1, 1, 1, 1, 1,\n",
              "          1, 1, 1, 1, 1, 1, 1, 1, 1, 1, 1, 1, 1, 1, 1]])})"
            ]
          },
          "metadata": {},
          "execution_count": 78
        }
      ]
    },
    {
      "cell_type": "code",
      "source": [
        "input_ids = tokens['input_ids']\n",
        "attention_mask = tokens['attention_mask']"
      ],
      "metadata": {
        "id": "lq1-uzQi9X7T"
      },
      "execution_count": 79,
      "outputs": []
    },
    {
      "cell_type": "code",
      "source": [
        "len(tokens['input_ids'][0])"
      ],
      "metadata": {
        "colab": {
          "base_uri": "https://localhost:8080/"
        },
        "id": "HOWkQdDiBkCD",
        "outputId": "b6dd2859-1049-455d-a2cf-4ea895bc0bbf"
      },
      "execution_count": 80,
      "outputs": [
        {
          "output_type": "execute_result",
          "data": {
            "text/plain": [
              "207"
            ]
          },
          "metadata": {},
          "execution_count": 80
        }
      ]
    },
    {
      "cell_type": "code",
      "source": [
        "input_id_chunk = tokens['input_ids'][0].split(200)\n",
        "mask_chunk = tokens['attention_mask'][0].split(200)"
      ],
      "metadata": {
        "id": "Bt8MMS6o9X-K"
      },
      "execution_count": 81,
      "outputs": []
    },
    {
      "cell_type": "code",
      "source": [
        "len(input_id_chunk)"
      ],
      "metadata": {
        "colab": {
          "base_uri": "https://localhost:8080/"
        },
        "id": "X7QL1r7SA_4D",
        "outputId": "fbe95a17-c70d-46a5-c7a7-835e3c99e6a5"
      },
      "execution_count": 82,
      "outputs": [
        {
          "output_type": "execute_result",
          "data": {
            "text/plain": [
              "2"
            ]
          },
          "metadata": {},
          "execution_count": 82
        }
      ]
    },
    {
      "cell_type": "code",
      "source": [
        "input_id_chunk[1]"
      ],
      "metadata": {
        "colab": {
          "base_uri": "https://localhost:8080/"
        },
        "id": "5a6SGriQD0f4",
        "outputId": "aba1c2c8-0c29-476a-9df3-5727f85232e8"
      },
      "execution_count": 84,
      "outputs": [
        {
          "output_type": "execute_result",
          "data": {
            "text/plain": [
              "tensor([1999, 2634, 1521, 1055, 3171, 4022, 1012])"
            ]
          },
          "metadata": {},
          "execution_count": 84
        }
      ]
    },
    {
      "cell_type": "code",
      "source": [
        "a= torch.arange(10)"
      ],
      "metadata": {
        "id": "C163MzJkBAB8"
      },
      "execution_count": 85,
      "outputs": []
    },
    {
      "cell_type": "code",
      "source": [
        "a = torch.cat(\n",
        "    [torch.Tensor([101]),a, torch.Tensor([102])]\n",
        ")\n",
        "a"
      ],
      "metadata": {
        "colab": {
          "base_uri": "https://localhost:8080/"
        },
        "id": "fg2vQwF68n9a",
        "outputId": "407e9b4b-295a-44cc-a773-3319df934805"
      },
      "execution_count": 86,
      "outputs": [
        {
          "output_type": "execute_result",
          "data": {
            "text/plain": [
              "tensor([101.,   0.,   1.,   2.,   3.,   4.,   5.,   6.,   7.,   8.,   9., 102.])"
            ]
          },
          "metadata": {},
          "execution_count": 86
        }
      ]
    },
    {
      "cell_type": "code",
      "source": [
        "padding_len = 20-a.shape[0]\n",
        "padding_len\n"
      ],
      "metadata": {
        "colab": {
          "base_uri": "https://localhost:8080/"
        },
        "id": "ELV9lNGsGAqf",
        "outputId": "6cacc72f-aec8-4fc8-860f-624c2381b3bf"
      },
      "execution_count": 87,
      "outputs": [
        {
          "output_type": "execute_result",
          "data": {
            "text/plain": [
              "8"
            ]
          },
          "metadata": {},
          "execution_count": 87
        }
      ]
    },
    {
      "cell_type": "code",
      "source": [
        "if padding_len >0:\n",
        "  a= torch.cat(\n",
        "      [a,torch.Tensor([0] * padding_len)]\n",
        "  )\n",
        "  a, len(a)"
      ],
      "metadata": {
        "id": "L1XPtTS-GAuD"
      },
      "execution_count": 88,
      "outputs": []
    },
    {
      "cell_type": "code",
      "source": [
        "chunk_size = 209\n",
        "\n",
        "input_id_chunks = list(tokens['input_ids'][0].split(chunk_size - 2))\n",
        "mask_chunks = list(tokens['attention_mask'][0].split(chunk_size - 2))\n",
        "\n",
        "for i in range(len(input_id_chunks)):\n",
        "    # add special tokens\n",
        "    input_id_chunks[i] = torch.cat(\n",
        "        [torch.Tensor([101]), input_id_chunks[i], torch.Tensor([102])]\n",
        "    )\n",
        "    mask_chunks[i] = torch.cat(\n",
        "        [torch.Tensor([1]), mask_chunks[i], torch.Tensor([1])]\n",
        "    )\n",
        "\n",
        "    # padding\n",
        "    padding_len = chunk_size - input_id_chunks[i].shape[0]\n",
        "\n",
        "    if padding_len > 0:\n",
        "        input_id_chunks[i] = torch.cat(\n",
        "            [input_id_chunks[i], torch.Tensor([0] * padding_len)]\n",
        "         )\n",
        "        mask_chunks[i] = torch.cat(\n",
        "            [mask_chunks[i], torch.Tensor([0] * padding_len)]\n",
        "         )"
      ],
      "metadata": {
        "id": "gSf2hWUGGAxE"
      },
      "execution_count": 91,
      "outputs": []
    },
    {
      "cell_type": "code",
      "source": [
        "_ = [print(len(chunk)) for chunk in input_id_chunks]"
      ],
      "metadata": {
        "colab": {
          "base_uri": "https://localhost:8080/"
        },
        "id": "vLiX07_1IART",
        "outputId": "5e8d8a68-e402-41b6-80ab-b63bc327f3e8"
      },
      "execution_count": 92,
      "outputs": [
        {
          "output_type": "stream",
          "name": "stdout",
          "text": [
            "209\n"
          ]
        }
      ]
    },
    {
      "cell_type": "code",
      "source": [
        "input_ids = torch.stack(input_id_chunks)\n",
        "attention_mask = torch.stack(mask_chunks)"
      ],
      "metadata": {
        "id": "LYkSnEtKIAUU"
      },
      "execution_count": 93,
      "outputs": []
    },
    {
      "cell_type": "code",
      "source": [
        "input_ids"
      ],
      "metadata": {
        "colab": {
          "base_uri": "https://localhost:8080/"
        },
        "id": "9nm-MC3CIAX1",
        "outputId": "d601b8d7-594c-4cfd-8252-bf60de3b874b"
      },
      "execution_count": 94,
      "outputs": [
        {
          "output_type": "execute_result",
          "data": {
            "text/plain": [
              "tensor([[  101.,  2634.,  1521.,  1055.,  5446.,  2704.,  9152., 17830.,  2721.,\n",
              "          4133., 11077.,  2386.,  2623., 21931., 21796.,  2005.,  2634.,  1521.,\n",
              "          1055.,  3171.,  2925.,  2012.,  1996., 17026., 14288.,  3795.,  6465.,\n",
              "          1012.,  2016., 16014.,  2015.,  2634.,  2097.,  2058., 15166.,  2762.,\n",
              "          1998.,  2900.,  2000.,  2468.,  1996.,  2353.,  1011.,  2922.,  4610.,\n",
              "          2011., 16798.,  2581.,  1516.,  2654.,  1010.,  8945., 14083.,  2075.,\n",
              "          1037., 14230., 17003.,  1002.,  1019., 23458.,  1012.,  2011., 19627.,\n",
              "          2581.,  1010.,  2016., 10035.,  1037.,  4603.,  3362.,  1997.,  1002.,\n",
              "          2382., 23458.,  1010.,  5024., 11787.,  2634.,  1521.,  1055.,  3171.,\n",
              "          3061.,  1012.,  2023., 12479., 19939., 16473.,  2006.,  2634.,  1521.,\n",
              "          1055.,  2783.,  2597.,  2004.,  1996.,  2088.,  1521.,  1055.,  3587.,\n",
              "          1011.,  2922.,  4610.,  1010.,  2007.,  1037., 14230.,  1997.,  5560.,\n",
              "          1002.,  1017.,  1012.,  1018., 23458.,  1012.,  5678.,  1010.,  1996.,\n",
              "          4610.,  2003., 11310.,  2000.,  4982.,  2011.,  1037., 15873.,  1021.,\n",
              "          1012.,  1017.,  1003.,  1999.,  1996.,  2783., 10807.,  2095.,  1010.,\n",
              "         27097.,  1996.,  1021.,  1012.,  1016.,  1003.,  3930.,  1997., 16798.,\n",
              "          2475.,  1516.,  2603.,  1012.,  4133., 11077.,  2386.,  2582., 11548.,\n",
              "          1996.,  3112.,  1997.,  3097.,  3622.,  5211.,  1006.,  1042.,  4305.,\n",
              "          1007.,  1999.,  2634.,  1010., 15411.,  1002.,  6205.,  2683.,  4551.,\n",
              "          1999.,  1996.,  2627.,  2603.,  2086.,  1010.,  2007.,  3515.,  1003.,\n",
              "          7119.,  1999.,  1996.,  2627.,  1022.,  1516.,  1023.,  2086.,  2104.,\n",
              "          1996.,  2783.,  2231.,  1012.,  2023., 12058.,  1999.,  1042.,  4305.,\n",
              "         16691., 14316.,  7023.,  1999.,  2634.,  1521.,  1055.,  3171.,  4022.,\n",
              "          1012.,   102.]])"
            ]
          },
          "metadata": {},
          "execution_count": 94
        }
      ]
    },
    {
      "cell_type": "code",
      "source": [
        "input_dict = {\n",
        "    \"input_ids\":input_ids.long(),\n",
        "    \"attention_mask\":attention_mask.int()\n",
        "}\n",
        "input_dict"
      ],
      "metadata": {
        "colab": {
          "base_uri": "https://localhost:8080/"
        },
        "id": "g95mzMjjIAbC",
        "outputId": "a9d6af2a-9d5b-4d5a-b42a-2e1de60704fa"
      },
      "execution_count": 95,
      "outputs": [
        {
          "output_type": "execute_result",
          "data": {
            "text/plain": [
              "{'input_ids': tensor([[  101,  2634,  1521,  1055,  5446,  2704,  9152, 17830,  2721,  4133,\n",
              "          11077,  2386,  2623, 21931, 21796,  2005,  2634,  1521,  1055,  3171,\n",
              "           2925,  2012,  1996, 17026, 14288,  3795,  6465,  1012,  2016, 16014,\n",
              "           2015,  2634,  2097,  2058, 15166,  2762,  1998,  2900,  2000,  2468,\n",
              "           1996,  2353,  1011,  2922,  4610,  2011, 16798,  2581,  1516,  2654,\n",
              "           1010,  8945, 14083,  2075,  1037, 14230, 17003,  1002,  1019, 23458,\n",
              "           1012,  2011, 19627,  2581,  1010,  2016, 10035,  1037,  4603,  3362,\n",
              "           1997,  1002,  2382, 23458,  1010,  5024, 11787,  2634,  1521,  1055,\n",
              "           3171,  3061,  1012,  2023, 12479, 19939, 16473,  2006,  2634,  1521,\n",
              "           1055,  2783,  2597,  2004,  1996,  2088,  1521,  1055,  3587,  1011,\n",
              "           2922,  4610,  1010,  2007,  1037, 14230,  1997,  5560,  1002,  1017,\n",
              "           1012,  1018, 23458,  1012,  5678,  1010,  1996,  4610,  2003, 11310,\n",
              "           2000,  4982,  2011,  1037, 15873,  1021,  1012,  1017,  1003,  1999,\n",
              "           1996,  2783, 10807,  2095,  1010, 27097,  1996,  1021,  1012,  1016,\n",
              "           1003,  3930,  1997, 16798,  2475,  1516,  2603,  1012,  4133, 11077,\n",
              "           2386,  2582, 11548,  1996,  3112,  1997,  3097,  3622,  5211,  1006,\n",
              "           1042,  4305,  1007,  1999,  2634,  1010, 15411,  1002,  6205,  2683,\n",
              "           4551,  1999,  1996,  2627,  2603,  2086,  1010,  2007,  3515,  1003,\n",
              "           7119,  1999,  1996,  2627,  1022,  1516,  1023,  2086,  2104,  1996,\n",
              "           2783,  2231,  1012,  2023, 12058,  1999,  1042,  4305, 16691, 14316,\n",
              "           7023,  1999,  2634,  1521,  1055,  3171,  4022,  1012,   102]]),\n",
              " 'attention_mask': tensor([[1, 1, 1, 1, 1, 1, 1, 1, 1, 1, 1, 1, 1, 1, 1, 1, 1, 1, 1, 1, 1, 1, 1, 1,\n",
              "          1, 1, 1, 1, 1, 1, 1, 1, 1, 1, 1, 1, 1, 1, 1, 1, 1, 1, 1, 1, 1, 1, 1, 1,\n",
              "          1, 1, 1, 1, 1, 1, 1, 1, 1, 1, 1, 1, 1, 1, 1, 1, 1, 1, 1, 1, 1, 1, 1, 1,\n",
              "          1, 1, 1, 1, 1, 1, 1, 1, 1, 1, 1, 1, 1, 1, 1, 1, 1, 1, 1, 1, 1, 1, 1, 1,\n",
              "          1, 1, 1, 1, 1, 1, 1, 1, 1, 1, 1, 1, 1, 1, 1, 1, 1, 1, 1, 1, 1, 1, 1, 1,\n",
              "          1, 1, 1, 1, 1, 1, 1, 1, 1, 1, 1, 1, 1, 1, 1, 1, 1, 1, 1, 1, 1, 1, 1, 1,\n",
              "          1, 1, 1, 1, 1, 1, 1, 1, 1, 1, 1, 1, 1, 1, 1, 1, 1, 1, 1, 1, 1, 1, 1, 1,\n",
              "          1, 1, 1, 1, 1, 1, 1, 1, 1, 1, 1, 1, 1, 1, 1, 1, 1, 1, 1, 1, 1, 1, 1, 1,\n",
              "          1, 1, 1, 1, 1, 1, 1, 1, 1, 1, 1, 1, 1, 1, 1, 1, 1]],\n",
              "        dtype=torch.int32)}"
            ]
          },
          "metadata": {},
          "execution_count": 95
        }
      ]
    },
    {
      "cell_type": "markdown",
      "source": [
        "The model will give softmax outputs for three labels: positive, negative or neutral."
      ],
      "metadata": {
        "id": "pJYvIypBNtgB"
      }
    },
    {
      "cell_type": "code",
      "source": [
        "output = model(**input_dict)\n",
        "probs = torch.nn.functional.softmax( output[0], dim=-1)\n",
        "probs = probs.mean(dim=0)\n",
        "probs"
      ],
      "metadata": {
        "colab": {
          "base_uri": "https://localhost:8080/"
        },
        "id": "bBLlZXzlIAef",
        "outputId": "2b5b859d-8b21-4370-ef6b-745968c81e46"
      },
      "execution_count": 96,
      "outputs": [
        {
          "output_type": "execute_result",
          "data": {
            "text/plain": [
              "tensor([0.9414, 0.0152, 0.0433], grad_fn=<MeanBackward1>)"
            ]
          },
          "metadata": {},
          "execution_count": 96
        }
      ]
    },
    {
      "cell_type": "code",
      "source": [
        "#As we can see, txt is highly positive!"
      ],
      "metadata": {
        "id": "jP4J18m2O_DJ"
      },
      "execution_count": null,
      "outputs": []
    },
    {
      "cell_type": "code",
      "source": [
        "torch.argmax(probs).item()"
      ],
      "metadata": {
        "colab": {
          "base_uri": "https://localhost:8080/"
        },
        "id": "FB-Oi6ciKuF8",
        "outputId": "41a4246f-afa0-4b12-8199-9da910d20bad"
      },
      "execution_count": 68,
      "outputs": [
        {
          "output_type": "execute_result",
          "data": {
            "text/plain": [
              "2"
            ]
          },
          "metadata": {},
          "execution_count": 68
        }
      ]
    }
  ]
}